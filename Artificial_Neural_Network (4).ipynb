{
  "nbformat": 4,
  "nbformat_minor": 0,
  "metadata": {
    "colab": {
      "provenance": []
    },
    "kernelspec": {
      "name": "python3",
      "display_name": "Python 3"
    }
  },
  "cells": [
    {
      "cell_type": "markdown",
      "metadata": {
        "id": "3cbb7fRy-eyr"
      },
      "source": [
        "# Artificial Neural Network"
      ]
    },
    {
      "cell_type": "markdown",
      "metadata": {
        "id": "8sNDnxE2-pwE"
      },
      "source": [
        "### Importing the libraries"
      ]
    },
    {
      "cell_type": "code",
      "source": [
        "import pandas as pd\n",
        "import numpy as np\n",
        "\n",
        "import tensorflow as tf"
      ],
      "metadata": {
        "id": "EoH2dJ_BUXG1"
      },
      "execution_count": 27,
      "outputs": []
    },
    {
      "cell_type": "code",
      "source": [
        "tf.__version__"
      ],
      "metadata": {
        "colab": {
          "base_uri": "https://localhost:8080/",
          "height": 35
        },
        "id": "_tZ7co2OUh5T",
        "outputId": "29f024d4-9ec5-4acf-cca1-0afe6ca97846"
      },
      "execution_count": 28,
      "outputs": [
        {
          "output_type": "execute_result",
          "data": {
            "text/plain": [
              "'2.15.0'"
            ],
            "application/vnd.google.colaboratory.intrinsic+json": {
              "type": "string"
            }
          },
          "metadata": {},
          "execution_count": 28
        }
      ]
    },
    {
      "cell_type": "markdown",
      "metadata": {
        "id": "AG3FQEch-yuA"
      },
      "source": [
        "## Part 1 - Data Preprocessing"
      ]
    },
    {
      "cell_type": "markdown",
      "metadata": {
        "id": "-4zq8Mza_D9O"
      },
      "source": [
        "### Importing the dataset"
      ]
    },
    {
      "cell_type": "code",
      "source": [
        "dataset=pd.read_excel(\"/content/Folds5x2_pp.xlsx\")\n",
        "X=dataset.iloc[:,:-1].values\n",
        "y=dataset.iloc[:,-1].values\n"
      ],
      "metadata": {
        "id": "yHbV4K0kUwpg"
      },
      "execution_count": 29,
      "outputs": []
    },
    {
      "cell_type": "code",
      "source": [
        "print(X)\n"
      ],
      "metadata": {
        "colab": {
          "base_uri": "https://localhost:8080/"
        },
        "id": "wg83MvAwWR3a",
        "outputId": "a5f61068-3ca9-4dfd-e7f1-42dca8202ecc"
      },
      "execution_count": 30,
      "outputs": [
        {
          "output_type": "stream",
          "name": "stdout",
          "text": [
            "[[  14.96   41.76 1024.07   73.17]\n",
            " [  25.18   62.96 1020.04   59.08]\n",
            " [   5.11   39.4  1012.16   92.14]\n",
            " ...\n",
            " [  31.32   74.33 1012.92   36.48]\n",
            " [  24.48   69.45 1013.86   62.39]\n",
            " [  21.6    62.52 1017.23   67.87]]\n"
          ]
        }
      ]
    },
    {
      "cell_type": "code",
      "source": [
        "print(y)"
      ],
      "metadata": {
        "colab": {
          "base_uri": "https://localhost:8080/"
        },
        "id": "-w_UJFFBWUf3",
        "outputId": "5b591152-be97-4d60-e378-ee5a2a61ee20"
      },
      "execution_count": 31,
      "outputs": [
        {
          "output_type": "stream",
          "name": "stdout",
          "text": [
            "[463.26 444.37 488.56 ... 429.57 435.74 453.28]\n"
          ]
        }
      ]
    },
    {
      "cell_type": "markdown",
      "metadata": {
        "id": "VC6omXel_Up0"
      },
      "source": [
        "### Splitting the dataset into the Training set and Test set"
      ]
    },
    {
      "cell_type": "code",
      "source": [
        "from sklearn.model_selection import train_test_split\n",
        "X_train,X_test,y_train,y_test=train_test_split(X,y,test_size=0.2,random_state=0)"
      ],
      "metadata": {
        "id": "BagueE3pVtIw"
      },
      "execution_count": 32,
      "outputs": []
    },
    {
      "cell_type": "markdown",
      "metadata": {
        "id": "_mSLlAT9_eyI"
      },
      "source": [
        "## Part 2 - Building the ANN"
      ]
    },
    {
      "cell_type": "markdown",
      "metadata": {
        "id": "CsBULd_f_wLY"
      },
      "source": [
        "### Initializing the ANN"
      ]
    },
    {
      "cell_type": "code",
      "source": [
        "ann=tf.keras.models.Sequential()"
      ],
      "metadata": {
        "id": "pGHh3YHxW1eG"
      },
      "execution_count": 33,
      "outputs": []
    },
    {
      "cell_type": "markdown",
      "metadata": {
        "id": "iitAFJS_ABUn"
      },
      "source": [
        "### Adding the input layer and the first hidden layer"
      ]
    },
    {
      "cell_type": "code",
      "source": [
        "ann.add(tf.keras.layers.Dense(units=6,activation = 'ReLU'))"
      ],
      "metadata": {
        "id": "03FVQwGtW7zD"
      },
      "execution_count": 34,
      "outputs": []
    },
    {
      "cell_type": "markdown",
      "metadata": {
        "id": "-lb4kK_wAKbs"
      },
      "source": [
        "### Adding the second hidden layer"
      ]
    },
    {
      "cell_type": "code",
      "source": [
        "ann.add(tf.keras.layers.Dense(units=6,activation = 'ReLU'))"
      ],
      "metadata": {
        "id": "Tx_svChjXe2J"
      },
      "execution_count": 35,
      "outputs": []
    },
    {
      "cell_type": "markdown",
      "metadata": {
        "id": "jwMOmKb3AdBY"
      },
      "source": [
        "### Adding the output layer"
      ]
    },
    {
      "cell_type": "code",
      "source": [
        "ann.add(tf.keras.layers.Dense(units=1))"
      ],
      "metadata": {
        "id": "Ktb-LASWXgiq"
      },
      "execution_count": 36,
      "outputs": []
    },
    {
      "cell_type": "markdown",
      "metadata": {
        "id": "fq7e4fF6A1yy"
      },
      "source": [
        "## Part 3 - Training the ANN"
      ]
    },
    {
      "cell_type": "markdown",
      "metadata": {
        "id": "qDeylAs2An25"
      },
      "source": [
        "### Compiling the ANN"
      ]
    },
    {
      "cell_type": "code",
      "source": [
        "ann.compile(optimizer='adam',loss='mean_squared_error')"
      ],
      "metadata": {
        "id": "r7QsOsx5Y-_y"
      },
      "execution_count": 37,
      "outputs": []
    },
    {
      "cell_type": "markdown",
      "metadata": {
        "id": "YjVuiybYOo7r"
      },
      "source": [
        "### Training the ANN model on the Training set"
      ]
    },
    {
      "cell_type": "code",
      "source": [
        "ann.fit(X_train,y_train,batch_size=32,epochs=100)"
      ],
      "metadata": {
        "colab": {
          "base_uri": "https://localhost:8080/"
        },
        "id": "2wfePrWqbNHO",
        "outputId": "70f02289-9b5e-4741-f950-4b6de98076b6"
      },
      "execution_count": 41,
      "outputs": [
        {
          "output_type": "stream",
          "name": "stdout",
          "text": [
            "Epoch 1/100\n",
            "240/240 [==============================] - 1s 2ms/step - loss: 16582.1992\n",
            "Epoch 2/100\n",
            "240/240 [==============================] - 0s 2ms/step - loss: 137.2627\n",
            "Epoch 3/100\n",
            "240/240 [==============================] - 0s 2ms/step - loss: 131.0800\n",
            "Epoch 4/100\n",
            "240/240 [==============================] - 0s 2ms/step - loss: 123.4703\n",
            "Epoch 5/100\n",
            "240/240 [==============================] - 0s 2ms/step - loss: 115.1061\n",
            "Epoch 6/100\n",
            "240/240 [==============================] - 0s 2ms/step - loss: 105.8431\n",
            "Epoch 7/100\n",
            "240/240 [==============================] - 0s 2ms/step - loss: 96.3501\n",
            "Epoch 8/100\n",
            "240/240 [==============================] - 0s 2ms/step - loss: 86.9680\n",
            "Epoch 9/100\n",
            "240/240 [==============================] - 0s 2ms/step - loss: 78.0093\n",
            "Epoch 10/100\n",
            "240/240 [==============================] - 1s 2ms/step - loss: 69.6592\n",
            "Epoch 11/100\n",
            "240/240 [==============================] - 1s 3ms/step - loss: 62.2673\n",
            "Epoch 12/100\n",
            "240/240 [==============================] - 1s 3ms/step - loss: 55.8518\n",
            "Epoch 13/100\n",
            "240/240 [==============================] - 1s 3ms/step - loss: 50.3210\n",
            "Epoch 14/100\n",
            "240/240 [==============================] - 0s 2ms/step - loss: 46.1824\n",
            "Epoch 15/100\n",
            "240/240 [==============================] - 0s 2ms/step - loss: 42.7383\n",
            "Epoch 16/100\n",
            "240/240 [==============================] - 0s 2ms/step - loss: 40.0591\n",
            "Epoch 17/100\n",
            "240/240 [==============================] - 0s 2ms/step - loss: 38.4754\n",
            "Epoch 18/100\n",
            "240/240 [==============================] - 0s 2ms/step - loss: 36.6066\n",
            "Epoch 19/100\n",
            "240/240 [==============================] - 0s 2ms/step - loss: 35.3364\n",
            "Epoch 20/100\n",
            "240/240 [==============================] - 0s 2ms/step - loss: 34.2432\n",
            "Epoch 21/100\n",
            "240/240 [==============================] - 0s 2ms/step - loss: 33.3412\n",
            "Epoch 22/100\n",
            "240/240 [==============================] - 0s 2ms/step - loss: 32.4911\n",
            "Epoch 23/100\n",
            "240/240 [==============================] - 0s 2ms/step - loss: 32.0275\n",
            "Epoch 24/100\n",
            "240/240 [==============================] - 0s 2ms/step - loss: 31.5171\n",
            "Epoch 25/100\n",
            "240/240 [==============================] - 0s 2ms/step - loss: 31.4145\n",
            "Epoch 26/100\n",
            "240/240 [==============================] - 0s 2ms/step - loss: 30.6209\n",
            "Epoch 27/100\n",
            "240/240 [==============================] - 0s 2ms/step - loss: 30.2467\n",
            "Epoch 28/100\n",
            "240/240 [==============================] - 0s 2ms/step - loss: 29.9701\n",
            "Epoch 29/100\n",
            "240/240 [==============================] - 0s 2ms/step - loss: 29.5067\n",
            "Epoch 30/100\n",
            "240/240 [==============================] - 0s 2ms/step - loss: 28.9602\n",
            "Epoch 31/100\n",
            "240/240 [==============================] - 0s 2ms/step - loss: 29.0439\n",
            "Epoch 32/100\n",
            "240/240 [==============================] - 0s 2ms/step - loss: 29.0241\n",
            "Epoch 33/100\n",
            "240/240 [==============================] - 0s 2ms/step - loss: 28.9211\n",
            "Epoch 34/100\n",
            "240/240 [==============================] - 0s 2ms/step - loss: 27.8807\n",
            "Epoch 35/100\n",
            "240/240 [==============================] - 0s 2ms/step - loss: 29.0365\n",
            "Epoch 36/100\n",
            "240/240 [==============================] - 0s 2ms/step - loss: 27.6584\n",
            "Epoch 37/100\n",
            "240/240 [==============================] - 1s 3ms/step - loss: 27.9305\n",
            "Epoch 38/100\n",
            "240/240 [==============================] - 1s 3ms/step - loss: 27.5932\n",
            "Epoch 39/100\n",
            "240/240 [==============================] - 1s 3ms/step - loss: 27.1373\n",
            "Epoch 40/100\n",
            "240/240 [==============================] - 1s 3ms/step - loss: 27.3805\n",
            "Epoch 41/100\n",
            "240/240 [==============================] - 0s 2ms/step - loss: 27.2086\n",
            "Epoch 42/100\n",
            "240/240 [==============================] - 0s 2ms/step - loss: 27.3465\n",
            "Epoch 43/100\n",
            "240/240 [==============================] - 0s 2ms/step - loss: 27.2382\n",
            "Epoch 44/100\n",
            "240/240 [==============================] - 0s 2ms/step - loss: 27.4400\n",
            "Epoch 45/100\n",
            "240/240 [==============================] - 0s 2ms/step - loss: 26.8330\n",
            "Epoch 46/100\n",
            "240/240 [==============================] - 0s 2ms/step - loss: 27.4096\n",
            "Epoch 47/100\n",
            "240/240 [==============================] - 0s 2ms/step - loss: 27.3122\n",
            "Epoch 48/100\n",
            "240/240 [==============================] - 0s 2ms/step - loss: 27.1216\n",
            "Epoch 49/100\n",
            "240/240 [==============================] - 0s 2ms/step - loss: 27.4984\n",
            "Epoch 50/100\n",
            "240/240 [==============================] - 0s 2ms/step - loss: 26.6843\n",
            "Epoch 51/100\n",
            "240/240 [==============================] - 0s 2ms/step - loss: 27.5749\n",
            "Epoch 52/100\n",
            "240/240 [==============================] - 0s 2ms/step - loss: 27.2986\n",
            "Epoch 53/100\n",
            "240/240 [==============================] - 0s 2ms/step - loss: 27.4326\n",
            "Epoch 54/100\n",
            "240/240 [==============================] - 0s 2ms/step - loss: 27.1317\n",
            "Epoch 55/100\n",
            "240/240 [==============================] - 0s 2ms/step - loss: 26.3338\n",
            "Epoch 56/100\n",
            "240/240 [==============================] - 0s 2ms/step - loss: 27.2234\n",
            "Epoch 57/100\n",
            "240/240 [==============================] - 0s 2ms/step - loss: 27.1958\n",
            "Epoch 58/100\n",
            "240/240 [==============================] - 0s 2ms/step - loss: 27.0435\n",
            "Epoch 59/100\n",
            "240/240 [==============================] - 0s 2ms/step - loss: 27.1754\n",
            "Epoch 60/100\n",
            "240/240 [==============================] - 0s 2ms/step - loss: 26.7330\n",
            "Epoch 61/100\n",
            "240/240 [==============================] - 0s 2ms/step - loss: 26.5197\n",
            "Epoch 62/100\n",
            "240/240 [==============================] - 0s 2ms/step - loss: 27.6983\n",
            "Epoch 63/100\n",
            "240/240 [==============================] - 0s 2ms/step - loss: 26.6196\n",
            "Epoch 64/100\n",
            "240/240 [==============================] - 1s 3ms/step - loss: 27.0049\n",
            "Epoch 65/100\n",
            "240/240 [==============================] - 1s 3ms/step - loss: 27.7490\n",
            "Epoch 66/100\n",
            "240/240 [==============================] - 1s 3ms/step - loss: 26.6454\n",
            "Epoch 67/100\n",
            "240/240 [==============================] - 0s 2ms/step - loss: 27.0936\n",
            "Epoch 68/100\n",
            "240/240 [==============================] - 0s 2ms/step - loss: 26.9054\n",
            "Epoch 69/100\n",
            "240/240 [==============================] - 0s 2ms/step - loss: 26.8751\n",
            "Epoch 70/100\n",
            "240/240 [==============================] - 0s 2ms/step - loss: 26.8897\n",
            "Epoch 71/100\n",
            "240/240 [==============================] - 0s 2ms/step - loss: 27.5743\n",
            "Epoch 72/100\n",
            "240/240 [==============================] - 0s 2ms/step - loss: 27.2927\n",
            "Epoch 73/100\n",
            "240/240 [==============================] - 0s 2ms/step - loss: 26.5597\n",
            "Epoch 74/100\n",
            "240/240 [==============================] - 0s 2ms/step - loss: 27.0524\n",
            "Epoch 75/100\n",
            "240/240 [==============================] - 0s 2ms/step - loss: 27.1627\n",
            "Epoch 76/100\n",
            "240/240 [==============================] - 0s 2ms/step - loss: 26.8054\n",
            "Epoch 77/100\n",
            "240/240 [==============================] - 0s 2ms/step - loss: 26.4052\n",
            "Epoch 78/100\n",
            "240/240 [==============================] - 0s 2ms/step - loss: 27.0875\n",
            "Epoch 79/100\n",
            "240/240 [==============================] - 0s 2ms/step - loss: 26.5970\n",
            "Epoch 80/100\n",
            "240/240 [==============================] - 0s 2ms/step - loss: 27.2217\n",
            "Epoch 81/100\n",
            "240/240 [==============================] - 0s 2ms/step - loss: 26.7698\n",
            "Epoch 82/100\n",
            "240/240 [==============================] - 0s 2ms/step - loss: 26.8308\n",
            "Epoch 83/100\n",
            "240/240 [==============================] - 0s 2ms/step - loss: 26.5370\n",
            "Epoch 84/100\n",
            "240/240 [==============================] - 0s 2ms/step - loss: 27.4014\n",
            "Epoch 85/100\n",
            "240/240 [==============================] - 0s 2ms/step - loss: 26.7939\n",
            "Epoch 86/100\n",
            "240/240 [==============================] - 0s 2ms/step - loss: 26.9623\n",
            "Epoch 87/100\n",
            "240/240 [==============================] - 0s 2ms/step - loss: 27.3619\n",
            "Epoch 88/100\n",
            "240/240 [==============================] - 0s 2ms/step - loss: 26.9127\n",
            "Epoch 89/100\n",
            "240/240 [==============================] - 0s 2ms/step - loss: 26.8048\n",
            "Epoch 90/100\n",
            "240/240 [==============================] - 1s 2ms/step - loss: 26.9147\n",
            "Epoch 91/100\n",
            "240/240 [==============================] - 1s 3ms/step - loss: 27.1275\n",
            "Epoch 92/100\n",
            "240/240 [==============================] - 1s 3ms/step - loss: 26.3551\n",
            "Epoch 93/100\n",
            "240/240 [==============================] - 1s 3ms/step - loss: 27.3159\n",
            "Epoch 94/100\n",
            "240/240 [==============================] - 0s 2ms/step - loss: 26.6776\n",
            "Epoch 95/100\n",
            "240/240 [==============================] - 0s 2ms/step - loss: 26.5477\n",
            "Epoch 96/100\n",
            "240/240 [==============================] - 0s 2ms/step - loss: 27.1207\n",
            "Epoch 97/100\n",
            "240/240 [==============================] - 0s 2ms/step - loss: 26.7803\n",
            "Epoch 98/100\n",
            "240/240 [==============================] - 0s 2ms/step - loss: 27.0908\n",
            "Epoch 99/100\n",
            "240/240 [==============================] - 0s 2ms/step - loss: 26.4846\n",
            "Epoch 100/100\n",
            "240/240 [==============================] - 0s 2ms/step - loss: 26.4461\n"
          ]
        },
        {
          "output_type": "execute_result",
          "data": {
            "text/plain": [
              "<keras.src.callbacks.History at 0x7fe44f503670>"
            ]
          },
          "metadata": {},
          "execution_count": 41
        }
      ]
    },
    {
      "cell_type": "markdown",
      "metadata": {
        "id": "0H0zKKNEBLD5"
      },
      "source": [
        "### Predicting the results of the Test set"
      ]
    },
    {
      "cell_type": "code",
      "source": [
        "y_pred=ann.predict([[X_test]])\n",
        "np.set_printoptions(precision=2)\n",
        "print(np.concatenate((y_pred.reshape(len(y_pred),1),y_test.reshape(len(y_test),1)),1))"
      ],
      "metadata": {
        "colab": {
          "base_uri": "https://localhost:8080/"
        },
        "id": "PExk752Pbtnr",
        "outputId": "15889888-412e-45bb-ca90-546d51894789"
      },
      "execution_count": 42,
      "outputs": [
        {
          "output_type": "stream",
          "name": "stdout",
          "text": [
            "60/60 [==============================] - 0s 2ms/step\n",
            "[[430.14 431.23]\n",
            " [461.17 460.01]\n",
            " [464.66 461.14]\n",
            " ...\n",
            " [471.9  473.26]\n",
            " [438.69 438.  ]\n",
            " [457.91 463.28]]\n"
          ]
        }
      ]
    }
  ]
}